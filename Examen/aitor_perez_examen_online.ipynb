{
 "cells": [
  {
   "cell_type": "markdown",
   "id": "1f1401c1-4dc9-4902-95bf-160715a42a25",
   "metadata": {},
   "source": [
    "# Prueba de Ramp-up"
   ]
  },
  {
   "cell_type": "markdown",
   "id": "1b34c670-a6dd-482d-9b04-5babee7be17a",
   "metadata": {},
   "source": [
    "Antes de comenzar, cambia el nombre del archivo notebook poniéndole delante tu nombre y primer apellido:\n",
    "\n",
    "* ``<nombre_apellido>_examen_online.ipynb``"
   ]
  },
  {
   "cell_type": "code",
   "execution_count": null,
   "id": "c8d9a657-272c-425a-9ac4-ea59f479673c",
   "metadata": {},
   "outputs": [],
   "source": [
    "# Escribe tu nombre en la variable:\n",
    "nombre_y_apellidos = \"Aitor Pérez\" "
   ]
  },
  {
   "cell_type": "code",
   "execution_count": null,
   "id": "2e9f9af5-076c-44ec-9a80-95c0e99cdc58",
   "metadata": {},
   "outputs": [],
   "source": [
    "\"\"\"\n",
    "Criterios de corrección:\n",
    "\n",
    "ejecución (ausencia de errores y obtención de resultados)\n",
    "estructura del código\n",
    "uso correcto de variables\n",
    "manejo de tipo de variables\n",
    "asignaciones\n",
    "operaciones booleanas\n",
    "manejo lógico de flujos de control y bucles\n",
    "uso de colecciones\n",
    "uso de funciones\n",
    "\"\"\";\n",
    "\n",
    "# Ejemplo de como queremos ver el código para más de un intento:\n",
    "\n",
    "# intento 1\n",
    "#your code\n",
    "\n",
    "# intento 2\n",
    "#your code"
   ]
  },
  {
   "cell_type": "code",
   "execution_count": null,
   "id": "bb16d0e3-3bb9-4f2b-944e-8fc35e628701",
   "metadata": {},
   "outputs": [],
   "source": [
    "# crea todas las celdas que necesites"
   ]
  },
  {
   "cell_type": "markdown",
   "id": "9e02b8f5-6f66-4e73-acfa-7f8c3977de2a",
   "metadata": {},
   "source": [
    "#### Notas y pruebas de apoyo para contestar las preguntas\n",
    "\n",
    "\n",
    "Cualquier código aunque no esté correcto nos dirá más de ti que no escribir nada. "
   ]
  },
  {
   "cell_type": "markdown",
   "id": "57d6b062-27f8-4377-b583-d662777b0bd7",
   "metadata": {},
   "source": [
    "__Debes subir este notebook a tu REPO PERSONAL__\n",
    "\n",
    "__Hora: hasta las 21:20 del 08/11/2024__"
   ]
  },
  {
   "cell_type": "markdown",
   "id": "062d81e8",
   "metadata": {},
   "source": [
    "#### Ejercicio 1\n",
    "\n",
    "Disponemos de una lista con información sobre varios empleados:\n",
    "\n",
    "    empleados = \n",
    "    [[12345, \"Juan Rodríguez\", 53, [\"Director financiero\"], 2],[56789, \"Laura Pérez\", 41, [\"CEO\", \"Director\", \"Gerente\"], 2],[88354, \"Pedro Álvarez\", 26, [\"Asistente\",\"Gestor comercial\"], 3]]\n",
    "\n",
    "Respecto de cada empleado, la lista contiene cinco elementos: en el primero almacenamos su tfno, en el segundo su nombre, en el tercero su edad, en el cuarto los puestos que ha desempeñado en la empresa (en forma de lista) y en el quinto su código postal.\n",
    "\n",
    "1. Siguiendo la misma estructura, incluye un nuevo empleado en la última posición de la lista empleados.\n",
    "\n",
    "2. Mostrar por pantalla, sin uso de funciones (salvo print) ni bucles: \n",
    "\n",
    "    - El nombre y la edad del tercer empleado de la lista empleados.\n",
    "    - Los puestos desempeñados por Pedro Álvarez, ordenados de atras a adelante (es decir, de Gestor comercial a Asistente)\n",
    "    - Si el nuevo empleado que has añadido tiene más o igual a 60 años, muestra por pantalla los puestos que el nuevo empleado haya desempeñado en la empresa. En caso contrario, muestra los puestos desempeñados por Laura Pérez y Juan Rodriguez."
   ]
  },
  {
   "cell_type": "code",
   "execution_count": 10,
   "id": "ae316b4b",
   "metadata": {},
   "outputs": [
    {
     "name": "stdout",
     "output_type": "stream",
     "text": [
      "[[12345, 'Juan Rodríguez', 53, ['Director financiero'], 2], [56789, 'Laura Pérez', 41, ['CEO', 'Director', 'Gerente'], 2], [88354, 'Pedro Álvarez', 26, ['Asistente', 'Gestor comercial'], 3], [1234, 'Marina Gómez', 22, ['Asistente'], 1]]\n",
      "El tercer empleado se llama Pedro Álvarez y tiene 26 años\n",
      "['Gestor comercial', 'Asistente']\n",
      "Puestos desempeñados por Laura Pérez ['CEO', 'Director', 'Gerente']\n",
      "Puestos desempeñados por Juan Rodríguez ['Director financiero']\n"
     ]
    }
   ],
   "source": [
    "# Declaramos la lista de empleados\n",
    "empleados = [\n",
    "    # Tlf       Nombre        Edad    Cargo(s)            CP\n",
    "    [12345, \"Juan Rodríguez\", 53, [\"Director financiero\"], 2],\n",
    "    [56789, \"Laura Pérez\", 41, [\"CEO\", \"Director\", \"Gerente\"], 2],\n",
    "    [88354, \"Pedro Álvarez\", 26, [\"Asistente\",\"Gestor comercial\"], 3]\n",
    "]\n",
    "\n",
    "# 1. Declarar nuevo empleado, añadirlo a la lista e imprimir la lista\n",
    "nuevo_empleado = [1234, 'Marina Gómez', 22, ['Asistente'], 1]\n",
    "empleados.append(nuevo_empleado)\n",
    "print(empleados)\n",
    "\n",
    "# 2. Mostrar datos\n",
    "# 2.1 Mostrar el nombre y edad del tercer empleado\n",
    "print(f\"El tercer empleado se llama {empleados[2][1]} y tiene {empleados[2][2]} años\")\n",
    "# 2.2 Mostrar puestos de Pedro invertidos\n",
    "print(empleados[2][3][::-1])\n",
    "# 2.3 Mostrar puestos de Pedro invertidos\n",
    "print(f\"Puestos desempeñados por {empleados[1][1]} {empleados[1][3]}\")\n",
    "print(f\"Puestos desempeñados por {empleados[0][1]} {empleados[0][3]}\")"
   ]
  },
  {
   "cell_type": "markdown",
   "id": "4da89624-0da3-4f91-aa5c-a084c5ee1b17",
   "metadata": {},
   "source": [
    "#### Ejercicio 2. \n",
    "\n",
    "Escribe un programa que te diga si una letra es una consonante o una vocal. Crea tu propia **FUNCIÓN**\n"
   ]
  },
  {
   "cell_type": "code",
   "execution_count": 13,
   "id": "c58bf610-92de-4a5a-a00d-652279ea33dd",
   "metadata": {},
   "outputs": [
    {
     "name": "stdout",
     "output_type": "stream",
     "text": [
      "a es una vocal.\n",
      "b es una consonante.\n",
      "Por favor, introduce una única letra.\n"
     ]
    }
   ],
   "source": [
    "# Función para calcular si la letra dada es consonante o vocal\n",
    "def vocal_o_consonante(letra):\n",
    "    if not letra.isalpha() or len(letra) != 1:\n",
    "        return \"Por favor, introduce una única letra.\"\n",
    "    if letra.lower() in 'aeiou':\n",
    "        return f\"{letra} es una vocal.\"\n",
    "    else:\n",
    "        return f\"{letra} es una consonante.\"\n",
    "\n",
    "print(vocal_o_consonante('a'))\n",
    "print(vocal_o_consonante('b'))\n",
    "print(vocal_o_consonante('1'))"
   ]
  },
  {
   "cell_type": "markdown",
   "id": "52065a6c-3d4c-44c0-a10b-958506c481b3",
   "metadata": {},
   "source": [
    "#### Ejercicio 3. \n",
    "\n",
    "Escribe un programa que calcule la edad humana de un perro.\n",
    "Tienes que pedirle al usuario la edad del perro en años.\n",
    "Si el usuario introduce un número negativo, imprime que la cifra facilitada no tiene sentido. Si el perro tiene un año, son 14 años humanos. Si tiene 2 años, son 22 años humanos.\n",
    "A partir de los 2 años, el cálculo es el siguiente: a la edad del perro se le restan 2 años, el resultado se multiplica por 5 y, finalmente, se le suma 22.\n",
    "Usa una función sin argumentos de entrada ni de salida (muestra toda la información con print())"
   ]
  },
  {
   "cell_type": "code",
   "execution_count": 19,
   "id": "9c59c801-1fe1-4a6d-a000-f85ca738ed00",
   "metadata": {},
   "outputs": [
    {
     "name": "stdout",
     "output_type": "stream",
     "text": [
      "Edad humana 77\n"
     ]
    }
   ],
   "source": [
    "def calcular_edad_humana_perro():\n",
    "    try:\n",
    "        # Solicita al usuario la edad del perro en años\n",
    "        edad_perro = int(input(\"Introduce la edad del perro en años: \"))\n",
    "    except ValueError:\n",
    "        # Maneja el error si el usuario no introduce un número válido\n",
    "        print(\"Por favor, introduce un número válido.\")\n",
    "        return\n",
    "    \n",
    "    # Verifica si la edad del perro es negativa\n",
    "    if edad_perro < 0:\n",
    "        print(\"La cifra facilitada no es válida.\")\n",
    "    elif edad_perro == 1:\n",
    "        edad_humana = 14\n",
    "    elif edad_perro == 2:\n",
    "        edad_humana = 22\n",
    "    else:\n",
    "        # Para más de 2 años, calcula la edad humana\n",
    "        edad_humana = (edad_perro - 2) * 5 + 22\n",
    "    \n",
    "    # Muestra la edad humana calculada\n",
    "    print(f\"Edad humana {edad_humana}\")\n",
    "\n",
    "# Llama a la función para calcular la edad humana del perro\n",
    "calcular_edad_humana_perro()\n"
   ]
  },
  {
   "cell_type": "markdown",
   "id": "2991309f-4208-431a-900c-d9bc734bb936",
   "metadata": {},
   "source": [
    "#### Ejercicio 4. \n",
    "\n",
    "Escribe un programa que te diga si una frase es un pangrama. Un pangrama es una frase que contiene todas las letras del alfabeto.\n",
    "Puedes tener espacios en blanco, pero NO  tendrás signos de puntuación, a excepción de las tildes.\n",
    "\n",
    "Ejemplo de pangrama:\n",
    "\n",
    "Extraño pan de col y kiwi se quemó bajo fugaz vaho "
   ]
  },
  {
   "cell_type": "code",
   "execution_count": 24,
   "id": "9a349c1e-15ab-4253-97f8-2a07a263791d",
   "metadata": {},
   "outputs": [
    {
     "name": "stdout",
     "output_type": "stream",
     "text": [
      "True\n"
     ]
    }
   ],
   "source": [
    "def frase_es_pangrama(frase):\n",
    "    # Crea una lista con todas las letras del alfabeto\n",
    "    alfabeto = 'abcdefghijklmnopqrstuvwxyz'\n",
    "    # Convierte la frase a minúsculas\n",
    "    frase = frase.lower()\n",
    "    # Comprueba si cada letra del alfabeto está en la frase\n",
    "    for letra in alfabeto:\n",
    "        if letra not in frase:\n",
    "            return False\n",
    "    return True\n",
    "\n",
    "# Prueba la función con la frase del enunciado\n",
    "frase = \"Extraño pan de col y kiwi se quemó bajo fugaz vaho\"\n",
    "print(frase_es_pangrama(frase))"
   ]
  },
  {
   "cell_type": "markdown",
   "id": "3dbb76e0-79b2-45e8-9034-58ee9cbd82bb",
   "metadata": {},
   "source": [
    "#### Ejercicio 5. \n",
    "\n",
    "Escribe un programa que use diccionarios para traducir palabras entre varios idiomas.\n",
    "Deberás pedirle al usuario una palabra por teclado, ver si está en tu diccionario. En caso de que esté, deberás mostrar la traducción de esa palabra.\n",
    "\n",
    "Ejemplo de diccionario:\n",
    "\n",
    "```python\n",
    "{\"file\": \"Fichier\", \"new\": \"Nouveau\", \"open\": \"Ouvrir\", \"save\": \"Enregistrer\", \"save as\": \"Enregistrer sous\", \"print preview\": \"Apercu avant impressioner\", \"print\": \"Imprimer\", \"close\": \"Fermer\", \"exit\": \"Quitter\"}\n"
   ]
  },
  {
   "cell_type": "code",
   "execution_count": 28,
   "id": "88236123-e8ac-45da-87d0-134a88a690c1",
   "metadata": {},
   "outputs": [
    {
     "name": "stdout",
     "output_type": "stream",
     "text": [
      "La palabra no está en el diccionario.\n"
     ]
    }
   ],
   "source": [
    "# Diccionario del enunciado pero formatted\n",
    "diccionario = {\n",
    "    \"file\": \"Fichier\",\n",
    "    \"new\": \"Nouveau\",\n",
    "    \"open\": \"Ouvrir\",\n",
    "    \"save\": \"Enregistrer\",\n",
    "    \"save as\": \"Enregistrer sous\",\n",
    "    \"print preview\": \"Aperçu avant impression\",\n",
    "    \"print\": \"Imprimer\",\n",
    "    \"close\": \"Fermer\",\n",
    "    \"exit\": \"Quitter\"\n",
    "}\n",
    "\n",
    "# Solicita al usuario una palabra en ingleś para traducir\n",
    "palabra = input(\"Introduce una palabra en inglés para traducir al francés: \").strip().lower()\n",
    "\n",
    "# Verifica si la palabra está en el diccionario y muestra la traducción\n",
    "if palabra in diccionario:\n",
    "    print(f\"La traducción de '{palabra}' es '{diccionario[palabra]}'.\")\n",
    "else:\n",
    "    print(\"La palabra no está en el diccionario.\")"
   ]
  },
  {
   "cell_type": "markdown",
   "id": "61967ca4-7e06-44b3-ad7b-adbc0e71671a",
   "metadata": {},
   "source": [
    "#### Ejercicio 6. (Bonus).\n",
    "\n",
    "Usando `OOP` modela un theremin (es un instrumento musical que se toca modificando el campo electromagnético, por si tenías curiosidad).\n",
    "Tendrá de atributos la marca, el modelo, el peso, la potencia y la batería.\n",
    "\n",
    "Todos los instrumentos se crean con un peso predeterminado de 500, una potencia de 50 y una batería de 200.\n",
    "\n",
    "Cuando se recarga la batería vale 200.\n",
    "\n",
    "Cuando se toca, se muestra por pantalla que está sonando y la batería disminuye 10 (no siendo nunca negativo).\n",
    "Si no hay batería, no puede sonar. Crea un instrumento, tócalo mientras quede batería, cárgalo y no lo vuelvas a tocar.\n"
   ]
  },
  {
   "cell_type": "code",
   "execution_count": 46,
   "id": "8082c8cd-03a9-478e-aa72-4ec1306e1bb2",
   "metadata": {},
   "outputs": [
    {
     "name": "stdout",
     "output_type": "stream",
     "text": [
      "El theremin Rofrigo está tocando.\n",
      "El theremin Rofrigo está tocando.\n",
      "El theremin Rofrigo está tocando.\n",
      "El theremin Rofrigo está tocando.\n",
      "El theremin Rofrigo está tocando.\n",
      "El theremin Rofrigo está tocando.\n",
      "El theremin Rofrigo está tocando.\n",
      "El theremin Rofrigo está tocando.\n",
      "El theremin Rofrigo está tocando.\n",
      "El theremin Rofrigo está tocando.\n",
      "El theremin Rofrigo está tocando.\n",
      "El theremin Rofrigo está tocando.\n",
      "El theremin Rofrigo está tocando.\n",
      "El theremin Rofrigo está tocando.\n",
      "El theremin Rofrigo está tocando.\n",
      "El theremin Rofrigo está tocando.\n",
      "El theremin Rofrigo está tocando.\n",
      "El theremin Rofrigo está tocando.\n",
      "El theremin Rofrigo está tocando.\n",
      "El theremin Rofrigo está tocando.\n",
      "El theremin Rofrigo no tiene batería.\n",
      "Batería llena.\n"
     ]
    }
   ],
   "source": [
    "\"\"\"\n",
    "    Intento 1\n",
    "class Theremin:\n",
    "    def __init__(self, marca, modelo, peso=500, potencia=50, bateria=200):\n",
    "        self.marca = marca\n",
    "        self.modelo = modelo\n",
    "        self.peso = peso\n",
    "        self.potencia = potencia\n",
    "        self.bateria = bateria\n",
    "        \n",
    "    def recargar_bateria(self):\n",
    "        self.bateria = 200\n",
    "        print(\"Batería llena.\")\n",
    "        \n",
    "    def tocar(self):\n",
    "        if self.bateria > 0:\n",
    "            self.bateria -= 10\n",
    "            print(f\"El theremin {self.modelo} está tocando.\")\n",
    "        else:\n",
    "            print(f\"El theremin {self.modelo} no tiene batería.\")\n",
    "            self.recargar_bateria()\n",
    "\n",
    "# Crea un objeto de la clase Theremin\n",
    "theremin = Theremin(\"Bridge\", \"Rofrigo\")\n",
    "while theremin.bateria > 0:\n",
    "    theremin.tocar()\n",
    "\n",
    "# Cuando ya no haya batería, se recarga y termina el bucle\n",
    "if theremin.bateria <= 0:\n",
    "    theremin.recargar_bateria()\n",
    "\"\"\"\n",
    "\n",
    "class Theremin:\n",
    "    def __init__(self, marca, modelo, peso=500, potencia=50, bateria=200):\n",
    "        self.marca = marca\n",
    "        self.modelo = modelo\n",
    "        self.peso = peso\n",
    "        self.potencia = potencia\n",
    "        self.bateria = bateria\n",
    "        \n",
    "    def recargar_bateria(self):\n",
    "        self.bateria = 200\n",
    "        print(\"Batería llena.\")\n",
    "        \n",
    "    def tocar(self):\n",
    "        if self.bateria > 0:\n",
    "            self.bateria -= 10\n",
    "            print(f\"El theremin {self.modelo} está tocando.\")\n",
    "        else:\n",
    "            print(f\"El theremin {self.modelo} no tiene batería.\")\n",
    "            self.recargar_bateria()\n",
    "            return False  # Se detiene el bucle cuando se recarga la batería\n",
    "        return True  # Continúa tocando si la batería es suficiente\n",
    "\n",
    "# Crea un objeto de la clase Theremin\n",
    "theremin = Theremin(\"Bridge\", \"Rofrigo\")\n",
    "while theremin.tocar():  # El bucle se detendrá cuando la batería se recargue\n",
    "    pass"
   ]
  },
  {
   "cell_type": "markdown",
   "id": "30f773b5-a6da-4446-b36b-722b2ee57730",
   "metadata": {},
   "source": [
    "#### Ejercicio 7. Extra (NO PUNTÚA).\n",
    "Una empresa usa dos listas  para guardar la información de sus empleados. Una lista guarda el nombre del empleado y la otra guarda su salario. Escribe un programa que cree esas dos listas originalmente vacías y que a través de un menú pueda hacer lo siguiente:\n",
    "    \n",
    "Inserta 1 para añadir un nuevo empleado y su salario\n",
    "\n",
    "Inserta 2 para imprimir los nombres y salarios de todos los empleados\n",
    "\n",
    "Inserta 3 para mostrar el número de empleados\n",
    "\n",
    "Inserta 4 para imprimir los nombres de los empleados con sueldos superiores a 400000\n",
    "\n",
    "Inserta 5 para subir un 5% los sueldos por debajo de 10000\n",
    "\n",
    "Inserta 6 para mostrar el total de todos los salarios\n",
    "\n",
    "Inserta 7 para salir del programa"
   ]
  },
  {
   "cell_type": "code",
   "execution_count": 60,
   "id": "67858e27-b7f5-4e05-bc50-3fca698ad22a",
   "metadata": {},
   "outputs": [
    {
     "name": "stdout",
     "output_type": "stream",
     "text": [
      "¡Bienvenido!\n",
      "\n",
      "1.- Añadir un nuevo empleado y su salario\n",
      "2.- Imprimir los nombres y salarios de todos los empleados\n",
      "3.- Mostrar el número de empleados\n",
      "4.- Imprimir los nombres de los empleados con sueldos superiores a 400000\n",
      "5.- Subir un 5% los sueldos por debajo de 10000\n",
      "6.- Mostrar el total de todos los salarios\n",
      "7.- Salir del programa\n",
      "Empleado: Aitor, Salario: 25000.0\n",
      "Empleado: Rofrigo, Salario: 500000.0\n",
      "Empleado: Angela, Salario: 10000000.0\n",
      "Número de empleados: 3\n",
      "Empleado: Rofrigo, Salario: 500000.0\n",
      "Empleado: Angela, Salario: 10000000.0\n",
      "Opción no válida, por favor selecciona una opción del 1 al 7.\n",
      "Total de todos los salarios: 10525000.0\n",
      "Saliendo del programa...\n"
     ]
    }
   ],
   "source": [
    "# Listas para guardar la información de los empleados\n",
    "nombres_empleados = []\n",
    "salarios_empleados = []\n",
    "\n",
    "def menu_empresa():\n",
    "    print(\"¡Bienvenido!\\n\\n\"\n",
    "        \"1.- Añadir un nuevo empleado y su salario\\n\"\n",
    "        \"2.- Imprimir los nombres y salarios de todos los empleados\\n\"\n",
    "        \"3.- Mostrar el número de empleados\\n\"\n",
    "        \"4.- Imprimir los nombres de los empleados con sueldos superiores a 400000\\n\"\n",
    "        \"5.- Subir un 5% los sueldos por debajo de 10000\\n\"\n",
    "        \"6.- Mostrar el total de todos los salarios\\n\"\n",
    "        \"7.- Salir del programa\")\n",
    "    \n",
    "    while True:\n",
    "        try:\n",
    "            opcion = int(input(\"Selecciona una opción: \"))\n",
    "        except ValueError:\n",
    "            print(\"Opción no válida, por favor selecciona una opción del 1 al 7.\")\n",
    "            continue\n",
    "        \n",
    "        # Añadir un nuevo empleado y su salario\n",
    "        if opcion == 1:\n",
    "            nombre = input(\"Introduce el nombre del empleado: \").strip()\n",
    "            while True:\n",
    "                try:\n",
    "                    salario = float(input(\"Introduce el salario del empleado: \"))\n",
    "                    if salario < 0:\n",
    "                        print(\"El salario no puede ser negativo. Intenta de nuevo.\")\n",
    "                        continue\n",
    "                    break\n",
    "                except ValueError:\n",
    "                    print(\"Salario no válido, por favor introduce un número.\")\n",
    "            \n",
    "            nombres_empleados.append(nombre)\n",
    "            salarios_empleados.append(salario)\n",
    "        \n",
    "        # Imprimir los nombres y salarios de todos los empleados\n",
    "        elif opcion == 2:\n",
    "            if len(nombres_empleados) == 0:\n",
    "                print(\"No hay empleados registrados.\")\n",
    "            else:\n",
    "                for nombre, salario in zip(nombres_empleados, salarios_empleados):\n",
    "                    print(f\"Empleado: {nombre}, Salario: {salario}\")\n",
    "        \n",
    "        # Mostrar el número de empleados\n",
    "        elif opcion == 3:\n",
    "            print(f\"Número de empleados: {len(nombres_empleados)}\")\n",
    "        \n",
    "        # Imprimir los nombres de los empleados con sueldos superiores a 400000\n",
    "        elif opcion == 4:\n",
    "            empleados_con_sueldo_alto = []\n",
    "            for i in range(len(nombres_empleados)):\n",
    "                if salarios_empleados[i] > 400000:\n",
    "                    empleados_con_sueldo_alto.append(f\"Empleado: {nombres_empleados[i]}, Salario: {salarios_empleados[i]}\")\n",
    "            if empleados_con_sueldo_alto:\n",
    "                for empleado in empleados_con_sueldo_alto:\n",
    "                    print(empleado)\n",
    "            else:\n",
    "                print(\"No hay empleados con salario superior a 400000.\")\n",
    "        \n",
    "        # Subir un 5% los sueldos por debajo de 10000\n",
    "        elif opcion == 5:\n",
    "            for i in range(len(salarios_empleados)):\n",
    "                if salarios_empleados[i] < 10000:\n",
    "                    salarios_empleados[i] *= 1.05\n",
    "        \n",
    "        # Mostrar el total de todos los salarios\n",
    "        elif opcion == 6:\n",
    "            total_salarios = sum(salarios_empleados)\n",
    "            print(f\"Total de todos los salarios: {total_salarios}\")\n",
    "        \n",
    "        # Salir del programa\n",
    "        elif opcion == 7:\n",
    "            print(\"Saliendo del programa...\")\n",
    "            break\n",
    "        \n",
    "        else:\n",
    "            print(\"Opción no válida, por favor selecciona una opción del 1 al 7.\")\n",
    "\n",
    "menu_empresa()"
   ]
  },
  {
   "cell_type": "markdown",
   "id": "e33a0e21-476e-4103-b889-a6b3e76b99f3",
   "metadata": {},
   "source": [
    "\n",
    "####  Ejercicio 8. EXTRA (NO PUNTÚA).\n",
    "\n",
    "Escribe un programa que __USE RECURSIVIDAD__ para decidir cuál es la película de Pixar favorita de un usuario.\n",
    "El programa preguntará al usuario cuál de 2 películas es su favorita, y con esa favorita se le volverá a preguntar entre esa y otra película cuál es su favorita...y así hasta que el usuario haya decidido de entre todas cuál es su favorita.\n",
    "\n",
    "Pista: si no quieres cambiar una lista, usa copy() y tendrás una copia que es otro objeto\n",
    "\n"
   ]
  },
  {
   "cell_type": "code",
   "execution_count": null,
   "id": "c9936fd4-6d29-4535-9f34-a6f289d18d8b",
   "metadata": {},
   "outputs": [
    {
     "name": "stdout",
     "output_type": "stream",
     "text": [
      "Prefieres Toy Story\n",
      "Prefieres Toy Story 2\n",
      "Prefieres Toy Story 2\n",
      "Prefieres Toy Story 2\n",
      "Prefieres Toy Story 2\n",
      "Prefieres Toy Story 2\n",
      "Prefieres Ratatouille\n",
      "Prefieres Ratatouille\n",
      "Prefieres Ratatouille\n",
      "Prefieres Ratatouille\n",
      "Prefieres Ratatouille\n",
      "Prefieres Ratatouille\n",
      "Prefieres Ratatouille\n",
      "Prefieres Ratatouille\n",
      "Prefieres Ratatouille\n",
      "Prefieres Ratatouille\n",
      "Prefieres Ratatouille\n",
      "Prefieres Ratatouille\n",
      "Prefieres Ratatouille\n",
      "Prefieres Ratatouille\n",
      "Prefieres Ratatouille\n",
      "Prefieres Ratatouille\n",
      "Prefieres Ratatouille\n",
      "Prefieres Ratatouille\n",
      "Prefieres Ratatouille\n",
      "Prefieres finalmente Ratatouille\n"
     ]
    }
   ],
   "source": [
    "def pelicula_favorita(peliculas):\n",
    "    # Caso base: si solo queda una película, esa es la favorita\n",
    "    if len(peliculas) == 1:\n",
    "        return peliculas[0]\n",
    "    \n",
    "    while True:\n",
    "        try:\n",
    "            # Pregunta al usuario cuál de las dos películas es su favorita\n",
    "            eleccion = int(input(f\"Si prefieres {peliculas[0]} marca 1, si prefieres {peliculas[1]} marca 2\"))\n",
    "            if eleccion == 1:\n",
    "                favorita = peliculas[0]\n",
    "                break\n",
    "            elif eleccion == 2:\n",
    "                favorita = peliculas[1]\n",
    "                break\n",
    "            else:\n",
    "                print(\"Por favor, selecciona 1 o 2.\")\n",
    "        except ValueError:\n",
    "            print(\"Entrada no válida. Por favor, selecciona 1 o 2.\")\n",
    "    \n",
    "    # Llama recursivamente a la función con la película favorita\n",
    "    print(f\"Prefieres {favorita}\")\n",
    "    peliculas_restantes = [favorita] + peliculas[2:]\n",
    "    return pelicula_favorita(peliculas_restantes)\n",
    "\n",
    "# Lista de películas de Pixar generadas gracias a nuestro amigo ChatGPT\n",
    "peliculas_pixar = [\n",
    "    \"Toy Story\", \"A Bug's Life\", \"Toy Story 2\", \"Monsters, Inc.\", \"Finding Nemo\",\n",
    "    \"The Incredibles\", \"Cars\", \"Ratatouille\", \"WALL-E\", \"Up\", \"Toy Story 3\",\n",
    "    \"Cars 2\", \"Brave\", \"Monsters University\", \"Inside Out\", \"The Good Dinosaur\",\n",
    "    \"Finding Dory\", \"Cars 3\", \"Coco\", \"Incredibles 2\", \"Toy Story 4\", \"Onward\",\n",
    "    \"Soul\", \"Luca\", \"Turning Red\", \"Lightyear\"\n",
    "]\n",
    "\n",
    "# Llama a la función y muestra la película favorita\n",
    "favorita = pelicula_favorita(peliculas_pixar)\n",
    "print(f\"Prefieres finalmente {favorita}\")"
   ]
  },
  {
   "cell_type": "markdown",
   "id": "6d6b9e2b",
   "metadata": {},
   "source": [
    "***Ratatouille supremacy***"
   ]
  },
  {
   "cell_type": "code",
   "execution_count": 61,
   "id": "10a7b881",
   "metadata": {},
   "outputs": [],
   "source": [
    "# FIN DEL EXAMEN"
   ]
  },
  {
   "cell_type": "markdown",
   "id": "20721623",
   "metadata": {},
   "source": [
    "# 👋"
   ]
  }
 ],
 "metadata": {
  "kernelspec": {
   "display_name": "Python 3",
   "language": "python",
   "name": "python3"
  },
  "language_info": {
   "codemirror_mode": {
    "name": "ipython",
    "version": 3
   },
   "file_extension": ".py",
   "mimetype": "text/x-python",
   "name": "python",
   "nbconvert_exporter": "python",
   "pygments_lexer": "ipython3",
   "version": "3.13.0"
  }
 },
 "nbformat": 4,
 "nbformat_minor": 5
}
